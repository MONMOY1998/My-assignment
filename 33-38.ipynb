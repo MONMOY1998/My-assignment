{
 "cells": [
  {
   "cell_type": "markdown",
   "id": "c4e66276",
   "metadata": {},
   "source": [
    " $(23)$Find the median of a list"
   ]
  },
  {
   "cell_type": "code",
   "execution_count": null,
   "id": "9228dc62",
   "metadata": {},
   "outputs": [],
   "source": [
    "A=[13,17,11,5,23,27,35,38,45,14,16,2,3,48]\n",
    "B=A.sort()\n",
    "def median(A):\n",
    "    if len(A)%2==0:\n",
    "        return (A[len(A)//2 - 1]+A[len(A)//2])/2\n",
    "    else:\n",
    "        return A[len(A)//2]\n",
    "z=median(A)\n",
    "print(\"The median is\",z)\n",
    "    \n",
    "        \n",
    "    \n",
    "    "
   ]
  },
  {
   "cell_type": "markdown",
   "id": "da717c62",
   "metadata": {},
   "source": [
    "$(24)$ Calsulate the average of numbers in a list"
   ]
  },
  {
   "cell_type": "code",
   "execution_count": null,
   "id": "88574ead",
   "metadata": {},
   "outputs": [],
   "source": [
    "\n",
    "\n",
    "A=[35,23,17,39,45,57,11,8,24,23,36,38,8]\n",
    "def average(A):\n",
    "    sum=0\n",
    "    count=0\n",
    "    while count<=len(A)-1:\n",
    "        sum=sum+A[count]\n",
    "        count=count+1\n",
    "    return sum/len(A)\n",
    "\n",
    "z=average(A)\n",
    "\n",
    "print(\"The average is\",z)\n",
    "\n",
    "    \n",
    "    "
   ]
  },
  {
   "cell_type": "markdown",
   "id": "7f5e1657",
   "metadata": {},
   "source": [
    "$(26)$Count the number of times a character appears in a string"
   ]
  },
  {
   "cell_type": "code",
   "execution_count": 11,
   "id": "9c8fab9d",
   "metadata": {},
   "outputs": [
    {
     "name": "stdout",
     "output_type": "stream",
     "text": [
      "The character m appears 5 times in the string\n"
     ]
    }
   ],
   "source": [
    "z = \"my name is monmoy molla\"\n",
    "count = 0\n",
    "t = \"m\"  # Character to count occurrences of\n",
    "\n",
    "for x in z:\n",
    "    if x ==t:\n",
    "        count += 1\n",
    "#print(count)\n",
    "\n",
    "print(\"The character\", t,\"appears\",count,\"times in the string\")\n",
    "    "
   ]
  },
  {
   "cell_type": "markdown",
   "id": "8034a620",
   "metadata": {},
   "source": [
    "Question number $(27)$"
   ]
  },
  {
   "cell_type": "code",
   "execution_count": 20,
   "id": "1242dde4",
   "metadata": {},
   "outputs": [
    {
     "name": "stdout",
     "output_type": "stream",
     "text": [
      "Enter the number:456\n",
      "Four Five Six\n"
     ]
    }
   ],
   "source": [
    "def num_to_words(number):\n",
    "    num_to_words={\n",
    "        \"0\":\"Zero\",\n",
    "        \"1\":\"One\",\n",
    "        \"2\":\"Two\",\n",
    "        \"3\":\"Three\",\n",
    "        \"4\":\"Four\",\n",
    "        \"5\":\"Five\",\n",
    "        \"6\":\"Six\",\n",
    "        \"7\":\"Seven\",\n",
    "        \"8\":\"Eight\",\n",
    "        \"9\":\"Nine\"}\n",
    "    word_string=\"\"     # The variable will store the word representating the number.It is initialized as an empty string.\n",
    "    for x in str(number): #This loop iterates through each digit of input number\n",
    "        word_string = word_string+ num_to_words[x] + \" \"\n",
    "    return word_string.strip()\n",
    "y=int(input(\"Enter the number:\"))\n",
    "number_in_words=num_to_words(y) #Calls the num_to_words function with the user's input y.Stores the returned word string in number_in_words.\n",
    "print(number_in_words)\n",
    "        \n",
    "\n",
    "\n"
   ]
  },
  {
   "cell_type": "markdown",
   "id": "56c14e24",
   "metadata": {},
   "source": [
    "$(35)$Write a programme to check if a number is prime or not"
   ]
  },
  {
   "cell_type": "code",
   "execution_count": 26,
   "id": "c023646c",
   "metadata": {},
   "outputs": [
    {
     "name": "stdout",
     "output_type": "stream",
     "text": [
      "Enter the number: 35\n",
      "35 is not a prime number.\n"
     ]
    }
   ],
   "source": [
    "y = int(input(\"Enter the number: \"))\n",
    "\n",
    "if y > 1:  # Check if the number is greater than 1\n",
    "    for i in range(2, y):  # Iterate from 2 up to (but not including) y\n",
    "        if y % i == 0:  # If y is divisible by any number in the range, it's not prime\n",
    "            print(y, \"is not a prime number.\")\n",
    "            break  # Exit the loop as soon as a divisor is found\n",
    "    else:  # If the loop completes without finding a divisor, it's prime\n",
    "        print(y, \"is a prime number.\")\n",
    "else:\n",
    "    print(y, \"is not a prime number.\")  # 1 is not prime by definition"
   ]
  },
  {
   "cell_type": "markdown",
   "id": "ec23cb5d",
   "metadata": {},
   "source": [
    "$(36)$Write a programme to print all the prime numbers between 1 to 100"
   ]
  },
  {
   "cell_type": "code",
   "execution_count": 29,
   "id": "c1e7409d",
   "metadata": {},
   "outputs": [
    {
     "name": "stdout",
     "output_type": "stream",
     "text": [
      "2\n",
      "3\n",
      "5\n",
      "7\n",
      "11\n",
      "13\n",
      "17\n",
      "19\n",
      "23\n",
      "29\n",
      "31\n",
      "37\n",
      "41\n",
      "43\n",
      "47\n",
      "53\n",
      "59\n",
      "61\n",
      "67\n",
      "71\n",
      "73\n",
      "79\n",
      "83\n",
      "89\n",
      "97\n"
     ]
    }
   ],
   "source": [
    "\n",
    "def is_prime(num):\n",
    "  \"\"\"Checks if a number is prime.\n",
    "\n",
    "  Args:\n",
    "    num: The number to check.\n",
    "\n",
    "  Returns:\n",
    "    True if the number is prime, False otherwise.\n",
    "  \"\"\"\n",
    "\n",
    "  if num <= 1:\n",
    "    return False\n",
    "  elif num <= 3:\n",
    "    return True\n",
    "  elif num % 2 == 0 or num % 3 == 0:\n",
    "    return False\n",
    "\n",
    "  i = 5\n",
    "  while i * i <= num:\n",
    "    if num % i == 0 or num % (i + 2) == 0:\n",
    "      return False\n",
    "    i += 6\n",
    "\n",
    "  return True\n",
    "\n",
    "# Print prime numbers between 1 and 100\n",
    "for num in range(1, 101):\n",
    "  if is_prime(num):\n",
    "    print(num)\n",
    "            \n",
    "            \n",
    "            "
   ]
  },
  {
   "cell_type": "markdown",
   "id": "c779f610",
   "metadata": {},
   "source": [
    "$(37)$ write a programme to  reverse a number "
   ]
  },
  {
   "cell_type": "code",
   "execution_count": 15,
   "id": "26be1c37",
   "metadata": {},
   "outputs": [
    {
     "name": "stdout",
     "output_type": "stream",
     "text": [
      "Enter the number:456987\n",
      "789654\n"
     ]
    }
   ],
   "source": [
    "number = int(input(\"Enter the number:\"))\n",
    "def reverse(number):\n",
    "    \"\"\"Reverses the digits of a given number.\n",
    "\n",
    "    Args:\n",
    "        number: An integer to reverse.\n",
    "\n",
    "    Returns:\n",
    "        The reversed integer.\n",
    "    \"\"\"\n",
    "\n",
    "    reversed_number = 0\n",
    "    while number > 0:\n",
    "        digit = number % 10 #When you divide a number by 10, the remainder represents the last digit. This extracted digit is stored in the variable digit.\n",
    "        reversed_number = reversed_number * 10 + digit\n",
    "        number //= 10\n",
    "    return reversed_number\n",
    "\n",
    "# Example usage\n",
    "\n",
    "x = reverse(number)\n",
    "print(x)\n",
    "        \n",
    "        \n",
    "        \n",
    "        \n",
    "    "
   ]
  },
  {
   "cell_type": "code",
   "execution_count": 3,
   "id": "4c5f6490",
   "metadata": {},
   "outputs": [
    {
     "data": {
      "text/plain": [
       "'3'"
      ]
     },
     "execution_count": 3,
     "metadata": {},
     "output_type": "execute_result"
    }
   ],
   "source": [
    "y=\"123\"\n",
    "y[2]"
   ]
  },
  {
   "cell_type": "markdown",
   "id": "ac9e3981",
   "metadata": {},
   "source": [
    "$(38)$Write a program to repeat the string $‘‘GOOD MORNING”$ n times. Here $‘n’$ is an integer \n",
    "entered by the user"
   ]
  },
  {
   "cell_type": "code",
   "execution_count": 17,
   "id": "6266907d",
   "metadata": {},
   "outputs": [
    {
     "name": "stdout",
     "output_type": "stream",
     "text": [
      "Enter the number of times to repeat the string: 2\n",
      "GOOD MORNINGGOOD MORNING"
     ]
    }
   ],
   "source": [
    "n = int(input(\"Enter the number of times to repeat the string: \"))\n",
    "\n",
    "string_to_repeat = \"GOOD MORNING\"\n",
    "\n",
    "print(string_to_repeat * n,end=\"\")\n",
    "    "
   ]
  },
  {
   "cell_type": "code",
   "execution_count": 18,
   "id": "cb8316fe",
   "metadata": {},
   "outputs": [
    {
     "name": "stdout",
     "output_type": "stream",
     "text": [
      "Enter the number of times to repeat the string: 4\n",
      "GOOD MORNING GOOD MORNING GOOD MORNING GOOD MORNING\n"
     ]
    }
   ],
   "source": [
    "n = int(input(\"Enter the number of times to repeat the string: \"))\n",
    "\n",
    "string_to_repeat = \"GOOD MORNING\"\n",
    "repeated_string = (string_to_repeat + \" \") * (n - 1) + string_to_repeat  #This part creates a new string by concatenating the string_to_repeat with a space.\n",
    "\n",
    "print(repeated_string)"
   ]
  },
  {
   "cell_type": "markdown",
   "id": "60db3d2a",
   "metadata": {},
   "source": [
    "$(37)$ swap two numbers using a third variable"
   ]
  },
  {
   "cell_type": "code",
   "execution_count": 21,
   "id": "8c714385",
   "metadata": {},
   "outputs": [
    {
     "name": "stdout",
     "output_type": "stream",
     "text": [
      "Enter the first number: 65\n",
      "Enter the second number: 56\n",
      "The swapped numbers are: 56 , 65\n"
     ]
    }
   ],
   "source": [
    "a = int(input(\"Enter the first number: \"))\n",
    "b = int(input(\"Enter the second number: \"))\n",
    "\n",
    "\n",
    "def swap_numbers(a, b):\n",
    "  \"\"\"Swaps the values of two numbers using a third variable.\n",
    "\n",
    "  Args:\n",
    "      a: The first number.\n",
    "      b: The second number.\n",
    "\n",
    "  Returns:\n",
    "      A tuple containing the swapped numbers.\n",
    "  \"\"\"\n",
    "\n",
    "  temp = a #Creates a temporary variable temp and stores the value of a in it (to preserve the original value of a).\n",
    "  a = b    #Assigns the value of b to a, effectively overwriting the original value of a.\n",
    "  b = temp  #Assigns the original value of a (which is stored in temp) to b, achieving the swap.\n",
    "  return a, b  #Returns the swapped values of a and b as a tuple (a pair of values).\n",
    "\n",
    "\n",
    "\n",
    "# Swap the numbers\n",
    "p = swap_numbers(a, b)   #Calls the swap_numbers function with the values of a and b and stores the returned tuple in the variable p.\n",
    " \n",
    "# Print the swapped numbers\n",
    "print(\"The swapped numbers are:\", p[0], \",\", p[1])\n",
    "#   Therefore, using p[0] and p[1] within the print statement allows you to retrieve and display the individually swapped values \n",
    "#   stored within the tuple returned by the swap_numbers function.\n"
   ]
  },
  {
   "cell_type": "markdown",
   "id": "e6bdef00",
   "metadata": {},
   "source": [
    "$34$. Write a program to check if the number is product of $2$ consecutive numbers\n"
   ]
  },
  {
   "cell_type": "code",
   "execution_count": 24,
   "id": "373ef799",
   "metadata": {},
   "outputs": [
    {
     "name": "stdout",
     "output_type": "stream",
     "text": [
      "Enter your value:43\n",
      "43 is not the product of two consecutive numbers.\n"
     ]
    }
   ],
   "source": [
    "num=int(input(\"Enter your value:\"))\n",
    "\n",
    "def is_product_of_consecutive(num):\n",
    " \"\"\"Checks if the number is the product of two consecutive numbers.\n",
    "\n",
    " Args:\n",
    "     num: The number to check.\n",
    "\n",
    " Returns:\n",
    "     True if the number is the product of two consecutive numbers, False otherwise.\n",
    " \"\"\"\n",
    "\n",
    " # Iterate from 1 to the square root of the number (inclusive)\n",
    " for i in range(1, int(num**0.5) + 1):\n",
    "   # Check if the current number and the next number are factors of the given number\n",
    "   if num % i == 0 and num // i == i + 1:\n",
    "     return True\n",
    "\n",
    " return False\n",
    "\n",
    "\n",
    "if is_product_of_consecutive(num):\n",
    " print(f\"{num} is the product of two consecutive numbers.\")\n",
    "else:\n",
    " print(f\"{num} is not the product of two consecutive numbers.\")\n"
   ]
  },
  {
   "cell_type": "markdown",
   "id": "cabfecb6",
   "metadata": {},
   "source": [
    "Find factorial of a number"
   ]
  },
  {
   "cell_type": "code",
   "execution_count": 7,
   "id": "201cc4cb",
   "metadata": {},
   "outputs": [
    {
     "name": "stdout",
     "output_type": "stream",
     "text": [
      "Enter your number:56\n",
      "The factorial of 56 is 710998587804863451854045647463724949736497978881168458687447040000000000000\n"
     ]
    }
   ],
   "source": [
    "number=int(input(\"Enter your number:\"))\n",
    "def factorial(number):\n",
    "    count=number\n",
    "    product=1\n",
    "    while count>=1:\n",
    "        product=count*product\n",
    "        count=count-1\n",
    "    return product\n",
    "x=factorial(number)\n",
    "print(\"The factorial of\",number,\"is\",x)"
   ]
  },
  {
   "cell_type": "code",
   "execution_count": 10,
   "id": "f327bbf5",
   "metadata": {},
   "outputs": [
    {
     "name": "stdout",
     "output_type": "stream",
     "text": [
      "Enter your number:5\n",
      "The factorial of 5 is 120\n"
     ]
    }
   ],
   "source": [
    "number=int(input(\"Enter your number:\"))\n",
    "def factorial(number):\n",
    "    x=number\n",
    "    product=1\n",
    "    for x in range(x,0,-1):\n",
    "        product=product*x\n",
    "    return product\n",
    "fac=factorial(number)\n",
    "print(\"The factorial of\",number,\"is\",fac)"
   ]
  },
  {
   "cell_type": "markdown",
   "id": "0688b8af",
   "metadata": {},
   "source": [
    "$(29)$Write a programme to find lcm of two numbers"
   ]
  },
  {
   "cell_type": "code",
   "execution_count": 11,
   "id": "14a89783",
   "metadata": {},
   "outputs": [
    {
     "name": "stdout",
     "output_type": "stream",
     "text": [
      "Enter the first number:12\n",
      "Enter the second number:16\n",
      "The LCM of 12 and 16 is: 48\n"
     ]
    }
   ],
   "source": [
    "a = int(input(\"Enter the first number:\"))\n",
    "b = int(input(\"Enter the second number:\"))\n",
    "def lcm(a, b):\n",
    "  \"\"\"\n",
    "  This function finds the least common multiple (LCM) of two numbers.\n",
    "\n",
    "  Args:\n",
    "      a: The first number.\n",
    "      b: The second number.\n",
    "\n",
    "  Returns:\n",
    "      The LCM of a and b.\n",
    "  \"\"\"\n",
    "\n",
    "  # Handle the case where one or both numbers are zero\n",
    "  if a == 0 or b == 0: #\n",
    "    return 0  #LCM of any number with 0 is 0.\n",
    "\n",
    "  # Find the greatest common divisor (GCD) of a and b\n",
    "  gcd = _gcd(a, b)\n",
    "\n",
    "  # The LCM is the product of a and b divided by the GCD\n",
    "  lcm = a * b // gcd\n",
    "\n",
    "  return lcm\n",
    "\n",
    "def _gcd(a, b):\n",
    "  \"\"\"\n",
    "  This function finds the greatest common divisor (GCD) of two numbers using the Euclidean algorithm.\n",
    "\n",
    "  Args:\n",
    "      a: The first number.\n",
    "      b: The second number.\n",
    "\n",
    "  Returns:\n",
    "      The GCD of a and b.\n",
    "  \"\"\"\n",
    "\n",
    "  # Handle the base case where b is zero\n",
    "  if b == 0:\n",
    "    return a\n",
    "\n",
    "  # Use the Euclidean algorithm to find the GCD\n",
    "  return _gcd(b, a % b)\n",
    "\n",
    "\n",
    "lcm_value = lcm(a,b)\n",
    "print(f\"The LCM of {a} and {b} is: {lcm_value}\")  # Output: The LCM of 12 and 18 is: 36\n",
    "\n",
    "\n"
   ]
  },
  {
   "cell_type": "markdown",
   "id": "d8938514",
   "metadata": {},
   "source": [
    "# RECURSIVE CALL"
   ]
  },
  {
   "cell_type": "markdown",
   "id": "32ba260a",
   "metadata": {},
   "source": [
    "It's a technique where a function calls itself directly or indirectly within its own body.\n",
    "It breaks a problem into smaller, self-similar subproblems, solving those, and then combining the results."
   ]
  },
  {
   "cell_type": "code",
   "execution_count": 13,
   "id": "606ae201",
   "metadata": {},
   "outputs": [
    {
     "name": "stdout",
     "output_type": "stream",
     "text": [
      "Enter the value:7\n",
      "5040\n"
     ]
    }
   ],
   "source": [
    "def factorial(n):\n",
    "  \"\"\"Calculates the factorial of a non-negative integer n.\"\"\"\n",
    "\n",
    "  if n == 0 or n==1:  # Base case: factorial of 0 is 1\n",
    "    return 1\n",
    "  else:\n",
    "    return n * factorial(n - 1)  # Recursive call: multiply n by factorial of (n-1)\n",
    "\n",
    "n=int(input(\"Enter the value:\"))\n",
    "result=factorial(n)\n",
    "print(result)  # Output: 120 (5 * 4 * 3 * 2 * 1)\n"
   ]
  },
  {
   "cell_type": "markdown",
   "id": "24b6b67d",
   "metadata": {},
   "source": [
    "$Base Case$: if $n == 0:$ stops the recursion when $n$ is $0$, returning $1$ (factorial of $0$ is $1$).\n",
    "$Recursive Call:$ return $ n *$ factorial$(n - 1)$ calls factorial with$ n - 1$, breaking the problem into smaller subproblems until the base case is reached.\n",
    "$Unwinding the Recursion:$ Results are combined as the function calls return, leading to the final answer."
   ]
  },
  {
   "cell_type": "markdown",
   "id": "2201c58d",
   "metadata": {},
   "source": [
    "$Finding$ \\linspace(0.2cm)$GCD of two numbers$"
   ]
  },
  {
   "cell_type": "code",
   "execution_count": 16,
   "id": "07f53d06",
   "metadata": {},
   "outputs": [
    {
     "name": "stdout",
     "output_type": "stream",
     "text": [
      "Enter the first value:64\n",
      "Enter the first value:48\n",
      "The GCD of two numbers is 16\n"
     ]
    }
   ],
   "source": [
    "n1=int(input(\"Enter the first value:\"))\n",
    "n2=int(input(\"Enter the first value:\"))\n",
    "def Compute_GCD(a,b):\n",
    "    if b==0:\n",
    "        return a\n",
    "    else:\n",
    "        return Compute_GCD(b,a%b)\n",
    "    \n",
    "result=Compute_GCD(n1,n2)\n",
    "print(\"The GCD of two numbers is\",result)\n",
    "\n",
    "    "
   ]
  },
  {
   "cell_type": "code",
   "execution_count": 7,
   "id": "982db354",
   "metadata": {},
   "outputs": [
    {
     "name": "stdout",
     "output_type": "stream",
     "text": [
      "Enter the first number:24\n",
      "Enter the second number:36\n"
     ]
    }
   ],
   "source": [
    "\n",
    "def compute_lcm(n1,n2):\n",
    "    if n1>n2:\n",
    "        higher=n1\n",
    "    else:\n",
    "        higher=n2\n",
    "        \n",
    "    value=higher\n",
    "    \n",
    "    while true:\n",
    "        if higher%n1==0 and higher%n2==0:\n",
    "            return higher\n",
    "            break\n",
    "        else:\n",
    "            higher=higher+value\n",
    "            \n",
    "n1=int(input(\"Enter the first number:\"))\n",
    "n2=int(input(\"Enter the second number:\"))\n",
    "\n",
    "            \n",
    "x=compute_lcm(n1,n2)\n",
    "print(x)\n",
    "\n",
    "        "
   ]
  },
  {
   "cell_type": "code",
   "execution_count": 11,
   "id": "19030053",
   "metadata": {},
   "outputs": [
    {
     "name": "stdout",
     "output_type": "stream",
     "text": [
      "Enter the first number:25\n",
      "Enter the second number:5\n"
     ]
    }
   ],
   "source": [
    "def compute_lcm(n1, n2):\n",
    "    \"\"\"Computes the least common multiple (LCM) of two numbers.\"\"\"\n",
    "\n",
    "    if n1 > n2:\n",
    "        higher = n1\n",
    "    else:\n",
    "        higher = n2\n",
    "\n",
    "    while True:\n",
    "        if higher % n1 == 0 and higher % n2 == 0:\n",
    "            print(\"LCM of\", n1, \"and\", n2, \"is\", higher)\n",
    "            break\n",
    "        else:\n",
    "            higher += 1  # Increment by 1 to find the next potential LCM\n",
    "\n",
    "# Get input numbers\n",
    "n1 = int(input(\"Enter the first number:\"))\n",
    "n2 = int(input(\"Enter the second number:\"))\n",
    "\n",
    "# Call the function to compute L\n",
    "compute_lcm(n1, n2)\n"
   ]
  },
  {
   "cell_type": "code",
   "execution_count": null,
   "id": "92c016d5",
   "metadata": {},
   "outputs": [],
   "source": []
  },
  {
   "cell_type": "code",
   "execution_count": null,
   "id": "4f3f578b",
   "metadata": {},
   "outputs": [],
   "source": []
  }
 ],
 "metadata": {
  "kernelspec": {
   "display_name": "Python 3 (ipykernel)",
   "language": "python",
   "name": "python3"
  },
  "language_info": {
   "codemirror_mode": {
    "name": "ipython",
    "version": 3
   },
   "file_extension": ".py",
   "mimetype": "text/x-python",
   "name": "python",
   "nbconvert_exporter": "python",
   "pygments_lexer": "ipython3",
   "version": "3.10.7"
  }
 },
 "nbformat": 4,
 "nbformat_minor": 5
}
