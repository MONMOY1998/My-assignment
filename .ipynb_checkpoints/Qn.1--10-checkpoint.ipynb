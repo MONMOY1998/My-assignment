{
 "cells": [
  {
   "cell_type": "markdown",
   "id": "d4bbc238",
   "metadata": {},
   "source": [
    "Question number: $3$"
   ]
  },
  {
   "cell_type": "code",
   "execution_count": 25,
   "id": "621e36b1",
   "metadata": {},
   "outputs": [
    {
     "name": "stdout",
     "output_type": "stream",
     "text": [
      "-5\n",
      "10\n",
      "-15\n",
      "20\n",
      "-25\n",
      "30\n"
     ]
    }
   ],
   "source": [
    "\n",
    "for x in range(5,35,5):\n",
    "    if x%2==0:\n",
    "        print(x*1)\n",
    "    else:\n",
    "        print(x*(-1))\n",
    "    \n",
    "        "
   ]
  },
  {
   "cell_type": "markdown",
   "id": "166a9bbf",
   "metadata": {},
   "source": [
    "Question number :$4$"
   ]
  },
  {
   "cell_type": "code",
   "execution_count": 13,
   "id": "4fffdc1a",
   "metadata": {},
   "outputs": [
    {
     "name": "stdout",
     "output_type": "stream",
     "text": [
      "-5\n",
      "10\n",
      "-15\n",
      "20\n",
      "-25\n",
      "30\n"
     ]
    }
   ],
   "source": [
    "z=0\n",
    "count=1\n",
    "\n",
    "while count<=6:\n",
    "    if count%2==0:\n",
    "        y=z+count*5\n",
    "    else:\n",
    "        y=z+count*(-5)\n",
    "    print(y)\n",
    "    count=count+1\n"
   ]
  },
  {
   "cell_type": "markdown",
   "id": "139a6432",
   "metadata": {},
   "source": [
    "Question number $6$"
   ]
  },
  {
   "cell_type": "code",
   "execution_count": 14,
   "id": "5895e94e",
   "metadata": {},
   "outputs": [
    {
     "name": "stdout",
     "output_type": "stream",
     "text": [
      "6\n"
     ]
    }
   ],
   "source": [
    "x=\"123\"\n",
    "sum=(int(x[0])+int(x[1])+int(x[2]))\n",
    "print(sum)\n"
   ]
  },
  {
   "cell_type": "markdown",
   "id": "b1bded21",
   "metadata": {},
   "source": [
    "Problem $7$"
   ]
  },
  {
   "cell_type": "code",
   "execution_count": null,
   "id": "b7386886",
   "metadata": {},
   "outputs": [],
   "source": [
    "x=\"12321\"\n",
    "\n",
    "print(x[-1])\n",
    "\n"
   ]
  },
  {
   "cell_type": "markdown",
   "id": "63559121",
   "metadata": {},
   "source": [
    "Problem no.$8$"
   ]
  },
  {
   "cell_type": "code",
   "execution_count": 12,
   "id": "fcfa6550",
   "metadata": {},
   "outputs": [
    {
     "name": "stdout",
     "output_type": "stream",
     "text": [
      "Enter the number:56\n",
      "Your grade is: E\n"
     ]
    }
   ],
   "source": [
    "G=[\"A\",\"B\",\"C\",\"D\",\"E\"]\n",
    "def number(x):\n",
    "\n",
    "    if  90<x<=100:\n",
    "        return G[0]\n",
    "        #print(Grade[0])\n",
    "    elif 80<x<=90:\n",
    "        return G[1]\n",
    "        #print(Grade[1])\n",
    "    elif 70<x<=80:\n",
    "        return G[2]\n",
    "        #print(Grade[2])\n",
    "    elif 60<x<=70:\n",
    "        return G[3]\n",
    "        #print(Grade[3])\n",
    "    else:\n",
    "        return G[4]\n",
    "        #print(Grade[4])\n",
    "\n",
    "x=int(input(\"Enter the number:\"))#Prompts the user to enter a number and stores it in the \"x\" variable.\n",
    "grade=number(x)#Calls the number() function to determine the letter grade based on the \"x\" value and stores the result in the grade variable.\n",
    "print(\"Your grade is:\",grade)#Prints the message \"Your grade is:\" followed by the value of the grade variable.\n",
    "#t=number(81)\n",
    "#print(t)"
   ]
  },
  {
   "cell_type": "markdown",
   "id": "c10d626e",
   "metadata": {},
   "source": [
    "problem no:$9$"
   ]
  },
  {
   "cell_type": "code",
   "execution_count": 15,
   "id": "fd015ea1",
   "metadata": {},
   "outputs": [
    {
     "name": "stdout",
     "output_type": "stream",
     "text": [
      "Enter the value of n:3\n",
      "the sum of first 3 natural number is 6\n"
     ]
    }
   ],
   "source": [
    "n=int(input(\"Enter the value of n:\"))\n",
    "sum=0\n",
    "for x in range(1,n+1):\n",
    "    sum=sum+x\n",
    "print(\"the sum of first\",n,\"natural number is\",sum)\n",
    "        \n",
    "        \n",
    "        \n",
    "    "
   ]
  },
  {
   "cell_type": "markdown",
   "id": "c918adca",
   "metadata": {},
   "source": [
    "Problem $5$"
   ]
  },
  {
   "cell_type": "code",
   "execution_count": 17,
   "id": "c00923f6",
   "metadata": {},
   "outputs": [
    {
     "name": "stdout",
     "output_type": "stream",
     "text": [
      "Enter the value of n3\n",
      "Answer is 1.162037037037037\n"
     ]
    }
   ],
   "source": [
    "n=int(input(\"Enter the value of n\"))\n",
    "sum=0\n",
    "for x in range(1,n+1):\n",
    "    sum=sum+(1/(x**3))\n",
    "print(\"Answer is\",sum)"
   ]
  },
  {
   "cell_type": "markdown",
   "id": "415f06f0",
   "metadata": {},
   "source": [
    "Question number$10$"
   ]
  },
  {
   "cell_type": "code",
   "execution_count": 26,
   "id": "8a122cdc",
   "metadata": {},
   "outputs": [
    {
     "name": "stdout",
     "output_type": "stream",
     "text": [
      "69.57142857142857\n"
     ]
    }
   ],
   "source": [
    "L=[27,77,80,65,69,84,85]\n",
    "sum=0\n",
    "#def mymean():\n",
    "for x in L:\n",
    "    sum=sum+x\n",
    "#print(sum)\n",
    "y=sum/len(L)\n",
    "    #return y\n",
    "print(y)\n",
    "        "
   ]
  },
  {
   "cell_type": "code",
   "execution_count": null,
   "id": "ec70ca03",
   "metadata": {},
   "outputs": [],
   "source": []
  }
 ],
 "metadata": {
  "kernelspec": {
   "display_name": "Python 3 (ipykernel)",
   "language": "python",
   "name": "python3"
  },
  "language_info": {
   "codemirror_mode": {
    "name": "ipython",
    "version": 3
   },
   "file_extension": ".py",
   "mimetype": "text/x-python",
   "name": "python",
   "nbconvert_exporter": "python",
   "pygments_lexer": "ipython3",
   "version": "3.10.7"
  }
 },
 "nbformat": 4,
 "nbformat_minor": 5
}
