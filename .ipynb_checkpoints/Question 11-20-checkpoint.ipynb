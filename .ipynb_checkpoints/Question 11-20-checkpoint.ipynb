{
 "cells": [
  {
   "cell_type": "markdown",
   "id": "63863f9c",
   "metadata": {},
   "source": [
    "Question : $12$"
   ]
  },
  {
   "cell_type": "code",
   "execution_count": 3,
   "id": "90b70bf5",
   "metadata": {},
   "outputs": [
    {
     "name": "stdout",
     "output_type": "stream",
     "text": [
      "Enter the value of length:12\n",
      "Enter the value of breadth:5\n",
      "The area is 60\n"
     ]
    }
   ],
   "source": [
    "x=int(input(\"Enter the value of length:\"))\n",
    "y=int(input(\"Enter the value of breadth:\"))\n",
    "def area(x,y):\n",
    "    z=x*y\n",
    "    return z\n",
    "t=area(x,y)\n",
    "print(\"The area is\",t)"
   ]
  },
  {
   "cell_type": "markdown",
   "id": "43e8b75b",
   "metadata": {},
   "source": [
    "Question number is $13$"
   ]
  },
  {
   "cell_type": "code",
   "execution_count": 7,
   "id": "552d6aee",
   "metadata": {},
   "outputs": [
    {
     "name": "stdout",
     "output_type": "stream",
     "text": [
      "42\n"
     ]
    }
   ],
   "source": [
    "z=\"367899\"\n",
    "count=0\n",
    "sum=0\n",
    "while count<=5:\n",
    "    sum=sum+int(z[count])\n",
    "    count=count+1\n",
    "print(sum)\n",
    "    "
   ]
  },
  {
   "cell_type": "markdown",
   "id": "9b9589cc",
   "metadata": {},
   "source": [
    "Question number is $14$"
   ]
  },
  {
   "cell_type": "code",
   "execution_count": 15,
   "id": "25d0775c",
   "metadata": {},
   "outputs": [
    {
     "name": "stdout",
     "output_type": "stream",
     "text": [
      "2398765"
     ]
    }
   ],
   "source": [
    "x=\"5678932\"\n",
    "count=6\n",
    "while count>=0:\n",
    "    print((x[count]),end=\"\")\n",
    "    count=count-1\n",
    "    "
   ]
  },
  {
   "cell_type": "code",
   "execution_count": 19,
   "id": "7d793478",
   "metadata": {},
   "outputs": [
    {
     "name": "stdout",
     "output_type": "stream",
     "text": [
      "Enter the string:\"abcde\"\n"
     ]
    },
    {
     "ename": "UnboundLocalError",
     "evalue": "local variable 'z' referenced before assignment",
     "output_type": "error",
     "traceback": [
      "\u001b[1;31m---------------------------------------------------------------------------\u001b[0m",
      "\u001b[1;31mUnboundLocalError\u001b[0m                         Traceback (most recent call last)",
      "Cell \u001b[1;32mIn[19], line 7\u001b[0m\n\u001b[0;32m      5\u001b[0m         z\u001b[38;5;241m=\u001b[39mx[count]\n\u001b[0;32m      6\u001b[0m     \u001b[38;5;28;01mreturn\u001b[39;00m z\n\u001b[1;32m----> 7\u001b[0m k\u001b[38;5;241m=\u001b[39m\u001b[43mreverse\u001b[49m\u001b[43m(\u001b[49m\u001b[43mx\u001b[49m\u001b[43m)\u001b[49m\n\u001b[0;32m      8\u001b[0m \u001b[38;5;28mprint\u001b[39m(\u001b[38;5;124m\"\u001b[39m\u001b[38;5;124mThe reverse of string is:\u001b[39m\u001b[38;5;124m\"\u001b[39m,k)\n",
      "Cell \u001b[1;32mIn[19], line 6\u001b[0m, in \u001b[0;36mreverse\u001b[1;34m(x)\u001b[0m\n\u001b[0;32m      4\u001b[0m \u001b[38;5;28;01mfor\u001b[39;00m count \u001b[38;5;129;01min\u001b[39;00m \u001b[38;5;28mrange\u001b[39m(\u001b[38;5;241m5\u001b[39m,\u001b[38;5;241m1\u001b[39m):\n\u001b[0;32m      5\u001b[0m     z\u001b[38;5;241m=\u001b[39mx[count]\n\u001b[1;32m----> 6\u001b[0m \u001b[38;5;28;01mreturn\u001b[39;00m \u001b[43mz\u001b[49m\n",
      "\u001b[1;31mUnboundLocalError\u001b[0m: local variable 'z' referenced before assignment"
     ]
    }
   ],
   "source": [
    "x=input(\"Enter the string:\")\n",
    "\n",
    "def reverse(x):\n",
    "    for count in range(5,1):\n",
    "        z=x[count]\n",
    "    return z\n",
    "k=reverse(x)\n",
    "print(\"The reverse of string is:\",k)\n",
    "\n",
    "        \n",
    "        \n",
    "    "
   ]
  },
  {
   "cell_type": "markdown",
   "id": "2685fe23",
   "metadata": {},
   "source": [
    "Question number $15$"
   ]
  },
  {
   "cell_type": "code",
   "execution_count": 22,
   "id": "cbaef6d1",
   "metadata": {},
   "outputs": [
    {
     "name": "stdout",
     "output_type": "stream",
     "text": [
      "Enter the string:\"ruzifaH\"\n",
      "\"Hafizur\"\n"
     ]
    }
   ],
   "source": [
    "string=input(\"Enter the string:\")\n",
    "def reverse(string):\n",
    "    empty=\"\"\n",
    "    for i in range(len(string)-1,-1,-1):\n",
    "        empty=empty+string[i]\n",
    "    return empty\n",
    "t=reverse(string)\n",
    "print(t)\n"
   ]
  },
  {
   "cell_type": "markdown",
   "id": "1ef65e9e",
   "metadata": {},
   "source": [
    "Question number:$16$"
   ]
  },
  {
   "cell_type": "code",
   "execution_count": 28,
   "id": "4ee5add2",
   "metadata": {},
   "outputs": [
    {
     "name": "stdout",
     "output_type": "stream",
     "text": [
      "[8, 7, 6, 5, 4, 3, 2, 1]\n"
     ]
    }
   ],
   "source": [
    "List=[1,2,3,4,5,6,7,8]\n",
    "def reverse(List):\n",
    "    empty=[]\n",
    "    for i in range(len(List)-1,-1,-1):\n",
    "        empty.append(List[i])\n",
    "    return empty\n",
    "t=reverse(List)\n",
    "print(t)\n",
    "    "
   ]
  },
  {
   "cell_type": "markdown",
   "id": "49038be4",
   "metadata": {},
   "source": [
    "Question number:$18$"
   ]
  },
  {
   "cell_type": "code",
   "execution_count": 29,
   "id": "64cba7b4",
   "metadata": {},
   "outputs": [
    {
     "name": "stdout",
     "output_type": "stream",
     "text": [
      "['Monmoy', 'Samim', 'Hafizul', 'Sahid', 'Dr.Rajibul']\n"
     ]
    }
   ],
   "source": [
    "L=[\"Samim\",\"Sahid\",\"Hafizul\",\"Dr.Rajibul\",\"Monmoy\",\"Dr.Rajibul\",\"Samim\"]\n",
    "x=list(set(L))\n",
    "print(x)\n",
    "\n",
    "\n",
    "\n",
    "   "
   ]
  },
  {
   "cell_type": "markdown",
   "id": "0baa9484",
   "metadata": {},
   "source": [
    "Question number $19$"
   ]
  },
  {
   "cell_type": "code",
   "execution_count": 34,
   "id": "3c863f0f",
   "metadata": {},
   "outputs": [
    {
     "name": "stdout",
     "output_type": "stream",
     "text": [
      "Element Samim occurs 2 times.\n",
      "Element Sahid occurs 1 times.\n",
      "Element Hafizul occurs 1 times.\n",
      "Element Dr.Rajibul occurs 2 times.\n",
      "Element Monmoy occurs 1 times.\n"
     ]
    }
   ],
   "source": [
    "L=[\"Samim\",\"Sahid\",\"Hafizul\",\"Dr.Rajibul\",\"Monmoy\",\"Dr.Rajibul\",\"Samim\"]\n",
    "Y={}# It will strores count of each element.\n",
    "for x in L:\n",
    "    if x in Y: #This checks if the current element is already a key in the dictionary\n",
    "        Y[x]=Y[x]+1 # If it is, this increments the count of that element by 1.Y[x] acceses the value associated with key x in Y dictionay\n",
    "    else:\n",
    "        Y[x]=1 #This adds a new key-value pair to the dictionary, setting the count of that element to 1.\n",
    "for x, count in Y.items():\n",
    "    print(\"Element\", x, \"occurs\", count, \"times.\")"
   ]
  },
  {
   "cell_type": "markdown",
   "id": "da39d0e2",
   "metadata": {},
   "source": [
    "Question number $21$"
   ]
  },
  {
   "cell_type": "code",
   "execution_count": 37,
   "id": "6a098819",
   "metadata": {},
   "outputs": [
    {
     "name": "stdout",
     "output_type": "stream",
     "text": [
      "Largest number is 200\n"
     ]
    }
   ],
   "source": [
    "L=[36,78,13,200,65,64,75,77,-33,-37,-10]\n",
    "\n",
    "def largest_number(L):\n",
    "    largest=L[0] # Assume first element is largest initially\n",
    "    for x in L: # This loop iterates through each number in the list \"L\"\n",
    "        if x>largest: #if the current number is greater than the current largest\n",
    "            largest=x# update largest to the current number\n",
    "    return largest\n",
    "Largest_number=largest_number(L)\n",
    "print(\"Largest number is\",Largest_number)\n",
    "    \n",
    "    \n",
    "            \n",
    "        "
   ]
  },
  {
   "cell_type": "markdown",
   "id": "71a43156",
   "metadata": {},
   "source": [
    "Question number $22$"
   ]
  },
  {
   "cell_type": "code",
   "execution_count": 39,
   "id": "58594d8a",
   "metadata": {},
   "outputs": [
    {
     "name": "stdout",
     "output_type": "stream",
     "text": [
      "Second largest number is 111\n"
     ]
    }
   ],
   "source": [
    "L=[36,78,13,200,65,64,75,77,-33,-37,-10,111]\n",
    "def largest_number(L):\n",
    "    largest=L[0]\n",
    "    for x in L:\n",
    "        if x>largest:\n",
    "            largest=x\n",
    "    return largest\n",
    "Largest_number=largest_number(L)\n",
    "\n",
    "\n",
    "def second_largest_number(L):\n",
    "    second_largest=L[0]\n",
    "    for x in L:\n",
    "        if x>second_largest and x<Largest_number:\n",
    "            second_largest=x\n",
    "    return second_largest\n",
    "Second_Largest_number=second_largest_number(L)\n",
    "print(\"Second largest number is\",Second_Largest_number)\n",
    "        "
   ]
  },
  {
   "cell_type": "code",
   "execution_count": null,
   "id": "497bba34",
   "metadata": {},
   "outputs": [],
   "source": []
  }
 ],
 "metadata": {
  "kernelspec": {
   "display_name": "Python 3 (ipykernel)",
   "language": "python",
   "name": "python3"
  },
  "language_info": {
   "codemirror_mode": {
    "name": "ipython",
    "version": 3
   },
   "file_extension": ".py",
   "mimetype": "text/x-python",
   "name": "python",
   "nbconvert_exporter": "python",
   "pygments_lexer": "ipython3",
   "version": "3.10.7"
  }
 },
 "nbformat": 4,
 "nbformat_minor": 5
}
